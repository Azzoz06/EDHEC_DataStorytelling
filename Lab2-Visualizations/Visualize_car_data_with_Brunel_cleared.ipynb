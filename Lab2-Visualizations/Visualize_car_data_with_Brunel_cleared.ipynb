{
 "cells": [
  {
   "cell_type": "markdown",
   "metadata": {},
   "source": [
    "# Visualize car data with Brunel"
   ]
  },
  {
   "cell_type": "markdown",
   "metadata": {},
   "source": [
    "The Brunel Visualization language makes it easy to build interactive charts and diagrams that you can deploy rapidly. This notebook contains the steps and code to get you started with visualizing data with Brunel.\n",
    "\n",
    "Some familiarity with Python is recommended. This notebook runs on Python 3.5 with Spark 2.1.\n",
    "\n",
    "You will use data about cars to graph the relationships between various properties, for example, how horsepower affects gas consumption. The cars data set was used for the 1983 American Statistical Association Data Exposition. This data set was collected by Ernesto Ramos and David Donoho and obtained from StatLib.\n",
    "\n",
    "## Table of contents\n",
    "\n",
    "This notebook has the following sections:\n",
    "1. [Load the data](#data_set)\n",
    "1. [Visualize the data](#visualize)\n",
    "1. [Modify the DataFrame to highlight specific data](#highlight)\n",
    "1. [Summary and next steps](#summary)"
   ]
  },
  {
   "cell_type": "markdown",
   "metadata": {},
   "source": [
    "<a id=\"data_set\"></a>\n",
    "## 1. Load the data \n",
    "The car data is a freely available data set on the **IBM Watson Studio** community.\n",
    "\n",
    "1. Open the Data Pane on the right (using the 1001 icon on the top right)\n",
    "1. Locate the `cars.csv` file. If not present yet, download the file from this URL [Car performance data](\"https://apsportal.ibm.com/exchange/public/entry/view/c81e9be8daf6941023b9dc86f303053b\")\n",
    "1. Select the code cell below and delete it, then from the File's menu on the right sidebar, select the `cars.csv` file and  `Insert to code/Insert Credentials`. This will insert the file credentials from Object Storage in a variable that should be named `credentials_1` (if not, rename it, as this is what the prepared code uses afterwards)"
   ]
  },
  {
   "cell_type": "code",
   "execution_count": null,
   "metadata": {},
   "outputs": [],
   "source": [
    "# @hidden_cell\n",
    "# The following code contains the credentials for a file in your IBM Cloud Object Storage.\n",
    "# You might want to remove those credentials before you share your notebook.\n",
    "credentials_1 = {\n",
    "    'IBM_API_KEY_ID': 'lC1paiaOGQ6UmDJam9gNInTMBJsiz6IpyDS92pI5fc9j',\n",
    "    'IAM_SERVICE_ID': 'iam-ServiceId-1b945b62-7ecd-498c-9849-5fbf7cf70392',\n",
    "    'ENDPOINT': 'https://s3-api.us-geo.objectstorage.service.networklayer.com',\n",
    "    'IBM_AUTH_ENDPOINT': 'https://iam.ng.bluemix.net/oidc/token',\n",
    "    'BUCKET': 'cruncho-donotdelete-pr-va0euruw2zwi45',\n",
    "    'FILE': 'cars.csv'\n",
    "}\n"
   ]
  },
  {
   "cell_type": "markdown",
   "metadata": {},
   "source": [
    "Run the next cell to import pandas and Brunel libraries, load the data into a pandas DataFrame, and display the first five rows of data:"
   ]
  },
  {
   "cell_type": "code",
   "execution_count": null,
   "metadata": {},
   "outputs": [],
   "source": [
    "import sys\n",
    "import types\n",
    "import pandas as pd\n",
    "from botocore.client import Config\n",
    "import ibm_boto3\n",
    "\n",
    "def __iter__(self): return 0\n",
    "\n",
    "# @hidden_cell\n",
    "# The following code accesses a file in your IBM Cloud Object Storage. It includes your credentials.\n",
    "# You might want to remove those credentials before you share your notebook.\n",
    "client_314b5764c276482681efade9d8d69995 = ibm_boto3.client(service_name='s3',\n",
    "    ibm_api_key_id=credentials_1['IBM_API_KEY_ID'],\n",
    "    ibm_auth_endpoint=credentials_1['IBM_AUTH_ENDPOINT'],\n",
    "    config=Config(signature_version='oauth'),\n",
    "    endpoint_url=credentials_1['ENDPOINT'])\n",
    "\n",
    "body = client_314b5764c276482681efade9d8d69995.get_object(Bucket=credentials_1['BUCKET'],Key=credentials_1['FILE'])['Body']\n",
    "# add missing __iter__ method, so pandas accepts body as file-like object\n",
    "if not hasattr(body, \"__iter__\"): body.__iter__ = types.MethodType( __iter__, body )\n",
    "\n",
    "cars = pd.read_csv(body,usecols=['mpg','cylinders','engine','horsepower','weight','acceleration','year','origin','name'])\n",
    "\n",
    "cars.head(6)"
   ]
  },
  {
   "cell_type": "markdown",
   "metadata": {},
   "source": [
    "<a id=\"visualize\"></a>\n",
    "## 2. Visualize the data\n",
    "You'll create some charts and diagrams with Brunel commands.\n",
    "\n",
    "The basic format of each call to Brunel is simple. Whether the command is a single line or a set of lines, the commands are concatenated together and the result interpreted as one command.\n",
    "\n",
    "Here are some of the rules for using Brunel that you'll need in this notebook:\n",
    " * __DataFrame__: Use the `data` command to specify the pandas DataFrame. \n",
    " * __Chart type__: Use commands like `chord` and `treemap` to specify a chart type. If you don't specify a type, the default chart type is a scatterplot. \n",
    " * __Chart definition__: Use the `x` and `y` commands to specify the data to include on the x-axis and the y-axis.\n",
    " * __Styling__: Use commands like `color`, `tooltip`, and `label` to control the styling of the graph.\n",
    " * __Size__: Use the `width` and `height` key-value pairs to specify the size of the graph. The key-value pairs must be preceded with two colons and separated with a comma, for example: `:: width=800, height=300`\n",
    " \n",
    "See detailed documentation on the Brunel Visualization language at __[Introduction to Brunel](http://brunel.mybluemix.net/docs/)__.\n",
    "\n",
    "### Scatter plots\n",
    "Run the next cell to show the relationship between the miles per gallon and the horsepower of the vehicles in a scatter plot. The color identifies the origin of the vehicles. "
   ]
  },
  {
   "cell_type": "code",
   "execution_count": null,
   "metadata": {
    "scrolled": true
   },
   "outputs": [],
   "source": [
    "import brunel\n",
    "%brunel data('cars') x(mpg) y(horsepower) color(origin) :: width=800, height=300"
   ]
  },
  {
   "cell_type": "markdown",
   "metadata": {},
   "source": [
    "### The graph output by Brunel above shows the distribution of Horsepower vs Miles-per-Galon.   \n",
    "* It's showing quite obviously the trend that the more horsepower, the less mpg.   \n",
    "* The coloring by car origin tends to indicate that American cars have globally lower mpg than european and japanese ones.\n",
    "\n",
    "You can put your cursor over the chart and scroll to zoom in and out using your mouse wheel or middle button.  \n",
    "When you zoom in, you can pan across the chart by clicking and dragging. \n",
    "\n",
    "### Now run the next cell to show the relationship between the horsepower and the weight of the cars in a scatter plot.\n",
    "* The color is based on the origin of the cars.\n",
    "* The tooltips show the name of the cars. "
   ]
  },
  {
   "cell_type": "code",
   "execution_count": null,
   "metadata": {},
   "outputs": [],
   "source": [
    "%brunel data('cars') x(horsepower) y(weight) color(origin) tooltip(name) :: width=800, height=300"
   ]
  },
  {
   "cell_type": "markdown",
   "metadata": {},
   "source": [
    "### Inspect the results\n",
    "* This shows that of course heavier cars are equipped with more powerful motors\n",
    "* Some vertical rows also stand out, showing that motors HP are following some standards \n",
    "* You can hover the dots to identify odd instances, for example the 225HP car weighting only 3000 kg on the far right is a Buick Estate Wagon. The Lightest cars of all is a Datsun 1200\n",
    "\n",
    "### Chord plot\n",
    "* Run the next cell to show a chord plot that correlates the origin and number of cars produced per year.\n",
    "* The x and y commands specify that the origin is mapped to the year of manufacture. \n",
    "* The size of the segments is based on the number of cars.\n",
    "* The color is based on the origin of the cars."
   ]
  },
  {
   "cell_type": "code",
   "execution_count": null,
   "metadata": {},
   "outputs": [],
   "source": [
    "%brunel data('cars') x(origin) y(year) chord size(#count) color(origin) :: width=500, height=400"
   ]
  },
  {
   "cell_type": "markdown",
   "metadata": {},
   "source": [
    "### Analysing chord data output graph\n",
    "* This graph shows that in 77,78, 81 and 82, japanese cars have had their market share increase since their ribbon on the year-end becomes wider.\n",
    "* The drop in 79 would call for further investigations.\n",
    "\n",
    "### Treemap\n",
    "A treemap can show many dimensions as recursively divided rectangles.\n",
    "\n",
    "* Run the next cell to show a treemap that groups vehicles by their origin, year of manufacture, and number of cylinders.\n",
    "* The color indicates the average gas mileage of the vehicles in each block.\n",
    "* The numbers in each block are the number of cylinders.\n",
    "* The size of the blocks reflects the number of vehicles in the category.\n",
    "* The tooltips show all the information."
   ]
  },
  {
   "cell_type": "code",
   "execution_count": null,
   "metadata": {},
   "outputs": [],
   "source": [
    "%brunel data('cars') treemap x(origin, year, cylinders) color(mpg) mean(mpg) size(#count) label(cylinders) label(' cyl') tooltip(#all):: width=900, height=600"
   ]
  },
  {
   "cell_type": "markdown",
   "metadata": {},
   "source": [
    "The treemap aboves allows to explore market structure with mostly 40cylinders cars for Japanese and European cars\n",
    "\n",
    "<a id=\"highlight\"></a>\n",
    "## 3. Modify the DataFrame to highlight specific data\n",
    "You can modify or add to the DataFrame to show data in different ways. In the following example, you apply a function that takes a string and tests whether it matches one of a set of substrings. The function maps to the names column to create a new column that consists of the names that match either \"Ford\" or \"Buick\". "
   ]
  },
  {
   "cell_type": "code",
   "execution_count": null,
   "metadata": {},
   "outputs": [],
   "source": [
    "def identify(x, search): \n",
    "    for y in search: \n",
    "        if y.lower() in x.lower(): return y\n",
    "    return None\n",
    "\n",
    "cars['Type'] = cars.name.map(lambda x: identify(x, [\"Ford\", \"Buick\"]))"
   ]
  },
  {
   "cell_type": "markdown",
   "metadata": {},
   "source": [
    "Run the next cell to create a scatter chart that plots gas mileage versus engine size. The Buick cars have blue dots and the Ford cars have red dots. The Brunel command is split into two chart definitions that are combined by the overlay operator (a plus sign). Both chart definitions set the x-axis, the y-axis, and the color to the same values but set the style to different values. The first chart definition sets the style of the dots and the second definition sets the style of the words in the legend. The last line of the command sets the width and height of the chart."
   ]
  },
  {
   "cell_type": "code",
   "execution_count": null,
   "metadata": {},
   "outputs": [],
   "source": [
    "%%brunel data('cars') x(engine) y(mpg) color(Type)  style('size:50%; fill:#eee') +\n",
    "     x(engine) y(mpg) color(Type) style('text {font-size:14; font-weight:bold; fill:darker}') \n",
    "     :: width=800, height=800"
   ]
  },
  {
   "cell_type": "markdown",
   "metadata": {},
   "source": [
    "<a id=\"summary\"></a>\n",
    "## 4. Summary and next steps\n",
    "You explored different types of charts and formatting and learned how you can use the pandas DataFrame to refine your charts. Try changing the formatting of these charts, or creating your own. \n",
    "\n",
    "For more information about the Brunel Visualization language, see __[Introduction to Brunel](http://brunel.mybluemix.net/docs/)__.\n",
    "\n",
    "Also read the Brunel blog at __[Working Vis - Perspectives on Actionable Visualization](http://brunelvis.org/)__.\n",
    "\n",
    "### Authors\n",
    "\n",
    "Dan Rope and Graham Wills are visualization architects at IBM. They created the Brunel visualization language."
   ]
  },
  {
   "cell_type": "markdown",
   "metadata": {
    "collapsed": true
   },
   "source": [
    "Copyright © 2017-2018 IBM. This notebook and its source code are released under the terms of the MIT License."
   ]
  }
 ],
 "metadata": {
  "celltoolbar": "Raw Cell Format",
  "kernelspec": {
   "display_name": "Python 3.5 with Spark 2.1",
   "language": "python",
   "name": "python3-spark21"
  },
  "language_info": {
   "codemirror_mode": {
    "name": "ipython",
    "version": 3
   },
   "file_extension": ".py",
   "mimetype": "text/x-python",
   "name": "python",
   "nbconvert_exporter": "python",
   "pygments_lexer": "ipython3",
   "version": "3.5.4"
  }
 },
 "nbformat": 4,
 "nbformat_minor": 1
}
