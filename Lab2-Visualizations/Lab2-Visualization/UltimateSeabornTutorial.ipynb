{
 "cells": [
  {
   "cell_type": "markdown",
   "metadata": {},
   "source": [
    "# Ultimate Seaborn Tutorial\n",
    "\n",
    "In this step-by-step Seaborn tutorial, you’ll learn how to use one of Python’s most convenient libraries for data visualization.\n",
    "\n",
    "For those who’ve tinkered with Matplotlib before, you may have wondered, “why does it take me 10 lines of code just to make a decent-looking histogram?”\n",
    "\n",
    "Well, if you’re looking for a simpler way to plot attractive charts, then you’ll love Seaborn. We’ll walk you through everything you need to know to get started, and we’ll use a fun Pokémon dataset (which you can download below).\n",
    "\n",
    "## Introduction to Seaborn\n",
    "Seaborn provides a high-level interface to Matplotlib, a powerful but sometimes unwieldy Python visualization library.\n",
    "\n",
    "On Seaborn’s official website, they state:\n",
    "\n",
    "> If matplotlib “tries to make easy things easy and hard things possible”, seaborn tries to make a well-defined set of hard things easy too.\n",
    "\n",
    "We’ve found this to be a pretty good summary of Seaborn’s strengths. In practice, the “well-defined set of hard things” includes:\n",
    "\n",
    "+ Using default themes that are aesthetically pleasing.\n",
    "+ Setting custom color palettes.\n",
    "+ Making attractive statistical plots.\n",
    "+ Easily and flexibly displaying distributions.\n",
    "+ Visualizing information from matrices and DataFrames.\n",
    "\n",
    "Those last three points are why **Seaborn is our tool of choice for Exploratory Analysis**. It makes it very easy to “get to know” your data quickly and efficiently.\n",
    "\n",
    "However, Seaborn is a complement, not a substitute, for Matplotlib. There are some tweaks that still require Matplotlib, and we’ll cover how to do that as well.\n",
    "\n",
    "### How to Learn Seaborn, the Self-Starter Way:\n",
    "While Seaborn simplifies data visualization in Python, it still has many features. Therefore, the best way to learn Seaborn is to learn by doing.\n",
    "1. **First, understand the basics and paradigms of the library**. Each library approaches data visualization differently, so it's important to understand how Seaborn \"thinks about\" the problem.\n",
    "2. **Then, fire up a dataset for practice.** Learning in context is the best way to master a new skill quickly.\n",
    "3. **Finally, refer to galleries to spark ideas and documentation to customize your charts.** Since you've already learned the library's paradigms and had some hands-on practice, you'll easily find what you need.\n",
    "\n",
    "This process will give you intuition about what you can do with Seaborn, leaving documentation to serve as further guidance. This is the fastest way to go from zero to proficient.\n",
    "\n",
    "### A quick tip before we begin:\n",
    "\n",
    "We tried to make this tutorial as streamlined as possible, which means we won’t go into too much detail for any one topic. It’s helpful to have the [Seaborn documentation](http://seaborn.pydata.org/api.html) open beside you, in case you want to learn more about a feature.\n",
    "\n",
    "## Seaborn Tutorial Contents\n",
    "Instead of just showing you how to make a bunch of plots, we’re going to walk through the most important paradigms of the Seaborn library. Along the way, we’ll illustrate each concept with examples.\n",
    "\n",
    "**Here are the steps we’ll cover in this tutorial:**\n",
    "\n",
    "1. Installing Seaborn.\n",
    "2. Importing libraries and dataset.\n",
    "3. Seaborn’s plotting functions.\n",
    "    + Scatter Plot\n",
    "4. Customizing with Matplotlib.\n",
    "5. The role of Pandas.\n",
    "    + Box Plot\n",
    "6. Seaborn themes.\n",
    "    + Violin Plot\n",
    "7. Color palettes.\n",
    "    + Swarm Plot\n",
    "8. Overlaying plots.\n",
    "9. Putting it all together.\n",
    "10. Pokédex (mini-gallery).\n",
    "    + Heatmap\n",
    "    + Histogram\n",
    "    + Bar Plot\n",
    "    + Factor Plot\n",
    "    + Density Plot\n",
    "    + Joint Distribution Plot\n",
    "\n",
    "### Step 1: Installing Seaborn. (Optional)\n",
    "As you'll be using **IBM Watson Studio**, **Seaborn** is already installed in the environment so you can skip the installation steps.  \n",
    "However if you want to create your own environment, these instructions will handy for you.\n",
    "\n",
    "First, things first: **Let’s. Get. Pumped. Up!**\n",
    "sure you have the following installed on your computer:\n",
    "\n",
    "+ Python 2.7+ or Python 3\n",
    "+ Pandas\n",
    "+ Matplotlib\n",
    "+ Seaborn\n",
    "+ Jupyter Notebook (optional, but recommended)\n",
    "\n",
    "We strongly recommend installing the [Anaconda Distribution](https://www.continuum.io/downloads), which comes with all of those packages. Simply follow the instructions on that download page.\n",
    "\n",
    "Once you have Anaconda installed, simply start Jupyter (either through the command line or the Navigator app) and open a new notebook:\n",
    "![](https://elitedatascience.com/wp-content/uploads/2017/05/jupyter-new-notebook.png)\n",
    "\n",
    "### Step 2: Importing libraries and dataset.\n",
    "Let's start by importing Pandas, which is a great library for managing relational (i.e. table-format) datasets:"
   ]
  },
  {
   "cell_type": "code",
   "execution_count": null,
   "metadata": {},
   "outputs": [],
   "source": [
    "# Pandas for managing datasets\n",
    "import pandas as pd"
   ]
  },
  {
   "cell_type": "markdown",
   "metadata": {},
   "source": [
    "Next, we'll import Matplotlib, which will help us customize our plots further.\n",
    "\n",
    "* **Tip:** In Jupyter Notebook, you can also include `%matplotlib inline` to display your plots inside your notebook.\n"
   ]
  },
  {
   "cell_type": "code",
   "execution_count": null,
   "metadata": {},
   "outputs": [],
   "source": [
    "# Matplotlib for additional customization\n",
    "from matplotlib import pyplot as plt\n",
    "%matplotlib inline"
   ]
  },
  {
   "cell_type": "markdown",
   "metadata": {},
   "source": [
    "Then, we'll import the Seaborn library, which is the star of today's show."
   ]
  },
  {
   "cell_type": "code",
   "execution_count": null,
   "metadata": {},
   "outputs": [],
   "source": [
    "# Seaborn for plotting and styling\n",
    "import seaborn as sns"
   ]
  },
  {
   "cell_type": "markdown",
   "metadata": {},
   "source": [
    "##### Now we're ready to import our dataset.\n",
    "\n",
    "* **Tip:** we gave each of our imported libraries an **alias**. Later, we can invoke Pandas with `pd`, Matplotlib with `plt`, and Seaborn with `sns`.\n",
    "Today, we'll be using a cool Pokémon dataset (first generation). Here's the free download **but students should find the file in the `data` folder: [Pokemon.csv](https://elitedatascience.com/wp-content/uploads/2017/04/Pokemon.csv)\n",
    "\n",
    "Once you've downloaded the CSV file, you can import it with Pandas.\n",
    "\n",
    "* **Tip:** The argument  `index_col=0` simply means we'll treat the first column of the dataset as the ID column.\n"
   ]
  },
  {
   "cell_type": "code",
   "execution_count": null,
   "metadata": {},
   "outputs": [],
   "source": [
    "# Read dataset\n",
    "# **if you are running in IBM Watson Studio, you need to use the `insert as Data Frame` option\n",
    "df = pd.read_csv('../_data/Pokemon.csv', index_col=0)"
   ]
  },
  {
   "cell_type": "markdown",
   "metadata": {},
   "source": [
    "Here's what the dataset looks like:"
   ]
  },
  {
   "cell_type": "code",
   "execution_count": null,
   "metadata": {},
   "outputs": [],
   "source": [
    "# Display first 5 observations\n",
    "df.head()"
   ]
  },
  {
   "cell_type": "markdown",
   "metadata": {},
   "source": [
    "As you can see, we have combat stats data for the original 151 (a.k.a best 151) Pokémon.\n",
    "\n",
    "### Step 3: Seaborn's plotting functions.\n",
    "One of Seaborn's greatest strengths is its diversity of plotting functions. For instance, making a **scatter plot** is just one line of code using the `lmplot()` function.\n",
    "\n",
    "There are two ways you can do so.\n",
    "\n",
    "The first way (recommended) is to pass your DataFrame to the `data=` argument, while passing column names to the axes arguments, `x=` and `y=`.\n",
    "The second way is to directly pass in Series of data to the axes arguments.\n",
    "For example, let's compare the Attack and Defense stats for our Pokémon:"
   ]
  },
  {
   "cell_type": "code",
   "execution_count": null,
   "metadata": {},
   "outputs": [],
   "source": [
    "# Recommended way\n",
    "sns.lmplot(x='Attack', y='Defense', data=df)\n",
    " \n",
    "# Alternative way\n",
    "# sns.lmplot(x=df.Attack, y=df.Defense)"
   ]
  },
  {
   "cell_type": "markdown",
   "metadata": {},
   "source": [
    "By the way, Seaborn doesn't have a dedicated scatter plot function, which is why you see a diagonal line. We actually used Seaborn's function for fitting and plotting a **regression line**.\n",
    "\n",
    "Thankfully, each plotting function has several useful options that you can set. Here's how we can tweak the `lmplot()`:\n",
    "\n",
    "+ First, we'll set `fit_reg=False` to remove the regression line, since we only want a scatter plot.\n",
    "+ Then, we'll set `hue='Generation'` to color our points by the Pokémon's evolution stage. This **hue** argument is very useful because it allows you to express a third dimension of information using color."
   ]
  },
  {
   "cell_type": "code",
   "execution_count": null,
   "metadata": {},
   "outputs": [],
   "source": [
    "# Scatterplot arguments\n",
    "sns.lmplot(x='Attack', y='Defense', data=df,\n",
    "           fit_reg=False, # No regression line\n",
    "           hue='Generation')   # Color by evolution stage"
   ]
  },
  {
   "cell_type": "markdown",
   "metadata": {},
   "source": [
    "Looking better, but we can improve this scatter plot further. For example, all of our Pokémon have positive Attack and Defense values, yet our **axes limits** fall below zero. Let's see how we can fix that..."
   ]
  },
  {
   "cell_type": "markdown",
   "metadata": {},
   "source": [
    "### Step 4: Customizing with Matplotlib.\n",
    "Remember, Seaborn is a high-level interface to Matplotlib. From our experience, Seaborn will get you most of the way there, but you'll sometimes need to bring in Matplotlib.\n",
    "\n",
    "Setting your axes limits is one of those times, but the process is pretty simple:\n",
    "\n",
    "1. First, invoke your Seaborn plotting function as normal.\n",
    "2. Then, invoke Matplotlib's customization functions. In this case, we'll use its `ylim()` and `xlim()` functions.\n",
    "Here's our new scatter plot with sensible axes limits:"
   ]
  },
  {
   "cell_type": "code",
   "execution_count": null,
   "metadata": {
    "scrolled": true
   },
   "outputs": [],
   "source": [
    "# Plot using Seaborn\n",
    "sns.lmplot(x='Attack', y='Defense', data=df,\n",
    "           fit_reg=False, \n",
    "           hue='Generation')\n",
    " \n",
    "# Tweak using Matplotlib\n",
    "plt.ylim(0, None)\n",
    "plt.xlim(0, None)"
   ]
  },
  {
   "cell_type": "markdown",
   "metadata": {},
   "source": [
    "For more information on Matplotlib's customization functions, check out its [documentation](https://matplotlib.org/users/pyplot_tutorial.html).\n",
    "\n",
    "### Step 5: The role of Pandas.\n",
    "Even though this is a Seaborn tutorial, Pandas actually plays a very important role. You see, Seaborn's plotting functions benefit from a base DataFrame that's reasonably formatted.\n",
    "\n",
    "For example, let's say we wanted to make a **box plot** for our Pokémon's combat stats:\n",
    "\n",
    "Default box"
   ]
  },
  {
   "cell_type": "code",
   "execution_count": null,
   "metadata": {},
   "outputs": [],
   "source": [
    "# Boxplot\n",
    "sns.boxplot(data=df)"
   ]
  },
  {
   "cell_type": "markdown",
   "metadata": {},
   "source": [
    "Well, that's a reasonable start, but there are some columns we'd probably like to remove:\n",
    "\n",
    "* We can remove the Total since we have individual stats.\n",
    "* We can remove the Stage and Legendary columns because they aren't combat stats.\n",
    "In turns out that this isn't easy to do within Seaborn alone. Instead, it's much simpler to **pre-format** your DataFrame.\n",
    "\n",
    "Let's create a new DataFrame called `stats_df` that only keeps the stats columns:"
   ]
  },
  {
   "cell_type": "code",
   "execution_count": null,
   "metadata": {},
   "outputs": [],
   "source": [
    "# Pre-format DataFrame\n",
    "stats_df = df.drop(['Total', 'Generation', 'Legendary'], axis=1)\n",
    " \n",
    "# New boxplot using stats_df\n",
    "sns.boxplot(data=stats_df)"
   ]
  },
  {
   "cell_type": "markdown",
   "metadata": {},
   "source": [
    "It's outside the scope of this tutorial to dive into Pandas, but here's a handy [cheat sheet](http://pandas.pydata.org/pandas-docs/stable/10min.html).\n",
    "\n",
    "### Step 6: Seaborn themes.\n",
    "Another advantage of Seaborn is that it comes with decent style themes right out of the box. The default theme is called *'darkgrid'*.\n",
    "\n",
    "Next, we'll change the theme to *'whitegrid'* while making a **violin plot**.\n",
    "\n",
    "+ Violin plots are useful alternatives to box plots.\n",
    "+ They show the distribution (through the thickness of the violin) instead of only the summary statistics.\n",
    "For example, we can visualize the distribution of Attack by Pokémon's primary type:"
   ]
  },
  {
   "cell_type": "code",
   "execution_count": null,
   "metadata": {},
   "outputs": [],
   "source": [
    "# Set theme\n",
    "sns.set_style('whitegrid')\n",
    " \n",
    "# Violin plot\n",
    "sns.violinplot(x='Type 1', y='Attack', data=df)"
   ]
  },
  {
   "cell_type": "markdown",
   "metadata": {},
   "source": [
    "As you can see, Dragon types tend to have higher Attack stats than Ghost types, but they also have greater variance.\n",
    "\n",
    "Now, Pokémon fans might find something quite jarring about that plot: *The colors are nonsensical*. Why is the Grass type colored pink or the Water type colored orange? We must fix this!\n",
    "\n",
    "### Step 7: Color palettes.\n",
    "Fortunately, Seaborn allows us to set custom color palettes. We can simply create an ordered **Python list** of color hex values.\n",
    "\n",
    "Let's use [Bulbapedia](http://bulbapedia.bulbagarden.net/wiki/Category:Type_color_templates) to help us create a new color palette:"
   ]
  },
  {
   "cell_type": "code",
   "execution_count": null,
   "metadata": {},
   "outputs": [],
   "source": [
    "pkmn_type_colors = ['#78C850',  # Grass\n",
    "                    '#F08030',  # Fire\n",
    "                    '#6890F0',  # Water\n",
    "                    '#A8B820',  # Bug\n",
    "                    '#A8A878',  # Normal\n",
    "                    '#A040A0',  # Poison\n",
    "                    '#F8D030',  # Electric\n",
    "                    '#E0C068',  # Ground\n",
    "                    '#EE99AC',  # Fairy\n",
    "                    '#C03028',  # Fighting\n",
    "                    '#F85888',  # Psychic\n",
    "                    '#B8A038',  # Rock\n",
    "                    '#705898',  # Ghost\n",
    "                    '#98D8D8',  # Ice\n",
    "                    '#7038F8',  # Dragon\n",
    "                   ]"
   ]
  },
  {
   "cell_type": "markdown",
   "metadata": {},
   "source": [
    "Wonderful. Now we can simply use the `palette=` argument to recolor our chart."
   ]
  },
  {
   "cell_type": "code",
   "execution_count": null,
   "metadata": {},
   "outputs": [],
   "source": [
    "# Violin plot with Pokemon color palette\n",
    "sns.violinplot(x='Type 1', y='Attack', data=df, \n",
    "               palette=pkmn_type_colors) # Set color palette"
   ]
  },
  {
   "cell_type": "markdown",
   "metadata": {},
   "source": [
    "Much better!\n",
    "\n",
    "Violin plots are great for visualizing distributions. However, since we only have 151 Pokémon in our dataset, we may want to simply display each point.\n",
    "\n",
    "That's where the **swarm plot** comes in. This visualization will show each point, while \"stacking\" those with similar values:"
   ]
  },
  {
   "cell_type": "code",
   "execution_count": null,
   "metadata": {},
   "outputs": [],
   "source": [
    "# Swarm plot with Pokemon color palette\n",
    "sns.swarmplot(x='Type 1', y='Attack', data=df, \n",
    "              palette=pkmn_type_colors)"
   ]
  },
  {
   "cell_type": "markdown",
   "metadata": {},
   "source": [
    "That's handy, but can't we combine our swarm plot and the violin plot? After all, they display similar information, right?  \n",
    "\n",
    "However we have a slight visualization problem cause we can't read the values for the `Type 1` column. Let's rotate the labels and increase their font size. **Seaborn** seats on top of `matplotlib` so it leverages it parameters as well. Let's change the `rcParams` to rotate the column labels."
   ]
  },
  {
   "cell_type": "code",
   "execution_count": null,
   "metadata": {},
   "outputs": [],
   "source": [
    "sns.swarmplot(x=\"Type 1\", y=\"Attack\", data=df, palette=pkmn_type_colors)\n",
    "plt.xticks(rotation=70)\n",
    "plt.rcParams[\"xtick.labelsize\"]=12"
   ]
  },
  {
   "cell_type": "markdown",
   "metadata": {},
   "source": [
    "### Step 8: Overlaying plots.\n",
    "The answer is yes.\n",
    "\n",
    "It's pretty straightforward to overlay plots using Seaborn, and it works the same way as with Matplotlib. Here's what we'll do:\n",
    "\n",
    "1. First, we'll make our figure larger using Matplotlib.\n",
    "2. Then, we'll plot the violin plot. However, we'll set `inner=None` to remove the bars inside the violins.\n",
    "3. Next, we'll plot the swarm plot. This time, we'll make the points black so they pop out more.\n",
    "4. Finally, we'll set a title using Matplotlib."
   ]
  },
  {
   "cell_type": "code",
   "execution_count": null,
   "metadata": {},
   "outputs": [],
   "source": [
    "# Set figure size with matplotlib\n",
    "plt.figure(figsize=(10,6))\n",
    " \n",
    "# Create plot\n",
    "sns.violinplot(x='Type 1',\n",
    "               y='Attack', \n",
    "               data=df, \n",
    "               inner=None, # Remove the bars inside the violins\n",
    "               palette=pkmn_type_colors)\n",
    " \n",
    "sns.swarmplot(x='Type 1', \n",
    "              y='Attack', \n",
    "              data=df, \n",
    "              color='k', # Make points black\n",
    "              alpha=0.7) # and slightly transparent\n",
    " \n",
    "# Set title with matplotlib\n",
    "plt.title('Attack by Type')"
   ]
  },
  {
   "cell_type": "markdown",
   "metadata": {},
   "source": [
    "Awesome, now we have a pretty chart that tells us how Attack values are distributed across different Pokémon types. But what it we want to see all of the other stats as well?\n",
    "\n",
    "### Step 9: Putting it all together.\n",
    "Well, we could certainly repeat that chart for each stat. But we can also combine the information into one chart... we just have to do some **data wrangling** with Pandas beforehand.\n",
    "\n",
    "First, here's a reminder of our data format:"
   ]
  },
  {
   "cell_type": "code",
   "execution_count": null,
   "metadata": {},
   "outputs": [],
   "source": [
    "stats_df.head()"
   ]
  },
  {
   "cell_type": "markdown",
   "metadata": {},
   "source": [
    "As you can see, all of our stats are in separate columns. Instead, we want to \"melt\" them into one column.\n",
    "\n",
    "To do so, we'll use Pandas's `melt()` function. It takes 3 arguments:\n",
    "\n",
    "+ First, the DataFrame to melt.\n",
    "+ Second, ID variables to keep (Pandas will melt all of the other ones).\n",
    "+ Finally, a name for the new, melted variable.\n",
    "Here's the output:"
   ]
  },
  {
   "cell_type": "code",
   "execution_count": null,
   "metadata": {},
   "outputs": [],
   "source": [
    "# Melt DataFrame\n",
    "melted_df = pd.melt(stats_df, \n",
    "                    id_vars=[\"Name\", \"Type 1\", \"Type 2\"], # Variables to keep\n",
    "                    var_name=\"Stat\") # Name of melted variable\n",
    "melted_df.head()"
   ]
  },
  {
   "cell_type": "markdown",
   "metadata": {},
   "source": [
    "All 6 of the stat columns have been \"melted\" into one, and the new Stat column indicates the original stat (HP, Attack, Defense, Sp. Attack, Sp. Defense, or Speed). For example, it's hard to see here, but Bulbasaur now has 6 rows of data.\n",
    "\n",
    "In fact, if you print the shape of these two DataFrames..."
   ]
  },
  {
   "cell_type": "code",
   "execution_count": null,
   "metadata": {},
   "outputs": [],
   "source": [
    "print( stats_df.shape )\n",
    "print( melted_df.shape )\n",
    "# (151, 9)\n",
    "# (906, 5)"
   ]
  },
  {
   "cell_type": "markdown",
   "metadata": {},
   "source": [
    "...you'll find that `melted_df` has 6 times the number of rows as `stats_df`.\n",
    "\n",
    "Now we can make a swarm plot with `melted_df`.\n",
    "\n",
    "* But this time, we're going to set `x='Stat'` and `y='value'` so our swarms are separated by stat.\n",
    "* Then, we'll set `hue='Type 1'` to color our points by the Pokémon type"
   ]
  },
  {
   "cell_type": "code",
   "execution_count": null,
   "metadata": {},
   "outputs": [],
   "source": [
    "# Swarmplot with melted_df\n",
    "sns.swarmplot(x='Stat', y='value', data=melted_df, \n",
    "              hue='Type 1')"
   ]
  },
  {
   "cell_type": "markdown",
   "metadata": {},
   "source": [
    "Finally, let's make a few final tweaks for a more readable chart:\n",
    "\n",
    "+ Enlarge the plot.\n",
    "+ Separate points by hue using the argument `split=True` .\n",
    "+ Use our custom Pokemon color palette.\n",
    "+ Adjust the y-axis limits to end at 0.\n",
    "+ Place the legend to the right."
   ]
  },
  {
   "cell_type": "code",
   "execution_count": null,
   "metadata": {},
   "outputs": [],
   "source": [
    "# 1. Enlarge the plot\n",
    "plt.figure(figsize=(10,6))\n",
    " \n",
    "sns.swarmplot(x='Stat', \n",
    "              y='value', \n",
    "              data=melted_df, \n",
    "              hue='Type 1', \n",
    "              split=True, # 2. Separate points by hue\n",
    "              palette=pkmn_type_colors) # 3. Use Pokemon palette\n",
    " \n",
    "# 4. Adjust the y-axis\n",
    "plt.ylim(0, 260)\n",
    " \n",
    "# 5. Place legend to the right\n",
    "plt.legend(bbox_to_anchor=(1, 1), loc=2)"
   ]
  },
  {
   "cell_type": "markdown",
   "metadata": {},
   "source": [
    "There we go!\n",
    "\n",
    "### Step 10: Pokédex (mini-gallery).\n",
    "We're going to conclude this tutorial with a few quick-fire data visualizations, just to give you a sense of what's possible with Seaborn.\n",
    "\n",
    "#### 10.1 - Heatmap\n",
    "Heatmaps help you visualize matrix-like data."
   ]
  },
  {
   "cell_type": "code",
   "execution_count": null,
   "metadata": {},
   "outputs": [],
   "source": [
    "# Calculate correlations\n",
    "corr = stats_df.corr()\n",
    " \n",
    "# Heatmap\n",
    "sns.heatmap(corr)"
   ]
  },
  {
   "cell_type": "markdown",
   "metadata": {},
   "source": [
    "#### 10.2 - Histogram\n",
    "Histograms allow you to plot the distributions of numeric variables."
   ]
  },
  {
   "cell_type": "code",
   "execution_count": null,
   "metadata": {},
   "outputs": [],
   "source": [
    "# Distribution Plot (a.k.a. Histogram)\n",
    "sns.distplot(df.Attack)"
   ]
  },
  {
   "cell_type": "markdown",
   "metadata": {},
   "source": [
    "#### 10.3 - Bar Plot\n",
    "Bar plots help you visualize the distributions of categorical variables."
   ]
  },
  {
   "cell_type": "code",
   "execution_count": null,
   "metadata": {},
   "outputs": [],
   "source": [
    "# Count Plot (a.k.a. Bar Plot)\n",
    "sns.countplot(x='Type 1', data=df, palette=pkmn_type_colors)\n",
    " \n",
    "# Rotate x-labels\n",
    "plt.xticks(rotation=-45)"
   ]
  },
  {
   "cell_type": "markdown",
   "metadata": {},
   "source": [
    "#### 10.4 - Factor Plot\n",
    "Factor plots make it easy to separate plots by categorical classes."
   ]
  },
  {
   "cell_type": "code",
   "execution_count": null,
   "metadata": {},
   "outputs": [],
   "source": [
    "# Factor Plot\n",
    "g = sns.factorplot(x='Type 1', \n",
    "                   y='Attack', \n",
    "                   data=df, \n",
    "                   hue='Generation',  # Color by stage\n",
    "                   col='Generation',  # Separate by stage\n",
    "                   kind='swarm') # Swarmplot\n",
    " \n",
    "# Rotate x-axis labels\n",
    "g.set_xticklabels(rotation=-45)\n",
    " \n",
    "# Doesn't work because only rotates last plot\n",
    "# plt.xticks(rotation=-45)"
   ]
  },
  {
   "cell_type": "markdown",
   "metadata": {},
   "source": [
    "#### 10.5 - Density Plot\n",
    "Density plots display the distribution between two variables.\n",
    "\n",
    "* **Tip:** Consider overlaying this with a scatter plot."
   ]
  },
  {
   "cell_type": "code",
   "execution_count": null,
   "metadata": {},
   "outputs": [],
   "source": [
    "# Density Plot\n",
    "sns.kdeplot(df.Attack, df.Defense)"
   ]
  },
  {
   "cell_type": "markdown",
   "metadata": {},
   "source": [
    "#### 10.6 - Joint Distribution Plot\n",
    "Joint distribution plots combine information from scatter plots and histograms to give you detailed information for bi-variate distributions."
   ]
  },
  {
   "cell_type": "code",
   "execution_count": null,
   "metadata": {},
   "outputs": [],
   "source": [
    "# Joint Distribution Plot\n",
    "sns.jointplot(x='Attack', y='Defense', data=df)"
   ]
  },
  {
   "cell_type": "markdown",
   "metadata": {},
   "source": [
    "Congratulations... you've made it to the end of this Python Seaborn tutorial!\n",
    "\n",
    "We've just concluded a tour of key Seaborn paradigms and showed you many examples along the way. Feel free to use this page along with the [official Seaborn gallery](http://seaborn.pydata.org/examples/) as references for your projects going forward."
   ]
  }
 ],
 "metadata": {
  "kernelspec": {
   "display_name": "Python 3",
   "language": "python",
   "name": "python3"
  },
  "language_info": {
   "codemirror_mode": {
    "name": "ipython",
    "version": 3
   },
   "file_extension": ".py",
   "mimetype": "text/x-python",
   "name": "python",
   "nbconvert_exporter": "python",
   "pygments_lexer": "ipython3",
   "version": "3.7.0"
  }
 },
 "nbformat": 4,
 "nbformat_minor": 2
}
